{
 "cells": [
  {
   "cell_type": "code",
   "execution_count": 1,
   "metadata": {},
   "outputs": [],
   "source": [
    "import pandas as pd"
   ]
  },
  {
   "cell_type": "code",
   "execution_count": 2,
   "metadata": {},
   "outputs": [],
   "source": [
    "INPUT_FILE = 'Data/ogBeer.csv'\n",
    "TO_DUMMIFY = ['beer/style', 'beer/brewerId']"
   ]
  },
  {
   "cell_type": "code",
   "execution_count": 3,
   "metadata": {},
   "outputs": [],
   "source": [
    "df = pd.read_csv(INPUT_FILE)"
   ]
  },
  {
   "cell_type": "code",
   "execution_count": 4,
   "metadata": {},
   "outputs": [
    {
     "name": "stdout",
     "output_type": "stream",
     "text": [
      "Dummified ['beer/style', 'beer/brewerId']\n"
     ]
    }
   ],
   "source": [
    "if all(col in df.columns for col in TO_DUMMIFY):\n",
    "    temp_df = pd.get_dummies(df, prefix=TO_DUMMIFY, columns=TO_DUMMIFY, drop_first=True)\n",
    "    temp_df.to_csv(INPUT_FILE, index=False)\n",
    "    print(f\"Dummified {TO_DUMMIFY}\")\n",
    "else:\n",
    "    print(f\"{TO_DUMMIFY} not all found in input csv\")"
   ]
  }
 ],
 "metadata": {
  "kernelspec": {
   "display_name": "Python 3",
   "language": "python",
   "name": "python3"
  },
  "language_info": {
   "codemirror_mode": {
    "name": "ipython",
    "version": 3
   },
   "file_extension": ".py",
   "mimetype": "text/x-python",
   "name": "python",
   "nbconvert_exporter": "python",
   "pygments_lexer": "ipython3",
   "version": "3.6.5"
  }
 },
 "nbformat": 4,
 "nbformat_minor": 2
}
