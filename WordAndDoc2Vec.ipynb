{
 "cells": [
  {
   "cell_type": "code",
   "execution_count": 1,
   "metadata": {
    "collapsed": true
   },
   "outputs": [],
   "source": [
    "import pandas as pd\n",
    "import numpy as np\n",
    "import matplotlib.pyplot as plt\n",
    "from gensim.models import Word2Vec\n",
    "from nltk.stem import WordNetLemmatizer\n",
    "import nltk\n",
    "%matplotlib inline"
   ]
  },
  {
   "cell_type": "code",
   "execution_count": 2,
   "metadata": {},
   "outputs": [],
   "source": [
    "data = pd.read_csv(\"/Users/Joe/Desktop/Fall2018/Data401/Project2/Data/beer.csv\")"
   ]
  },
  {
   "cell_type": "code",
   "execution_count": 3,
   "metadata": {
    "collapsed": true
   },
   "outputs": [],
   "source": [
    "lemmatizer = WordNetLemmatizer()\n",
    "stopwords = set(nltk.corpus.stopwords.words('english'))"
   ]
  },
  {
   "cell_type": "code",
   "execution_count": 4,
   "metadata": {},
   "outputs": [],
   "source": [
    "def processSentence(sentence):\n",
    "    sentence = sentence.lower()\n",
    "    for char in \":\\\";'?!@#$%^&*(){}[]\\<>,.\":\n",
    "        sentence = sentence.replace(char, \"\")\n",
    "        \n",
    "    sentence = sentence.split()\n",
    "    \n",
    "    sentence = [lemmatizer.lemmatize(word) for word in sentence]\n",
    "    \n",
    "    sentence = [word for word in sentence if word not in stopwords]\n",
    "    \n",
    "    return sentence"
   ]
  },
  {
   "cell_type": "code",
   "execution_count": 5,
   "metadata": {},
   "outputs": [],
   "source": [
    "data['processedText'] = data['review/text'].fillna(\"\").map(processSentence)"
   ]
  },
  {
   "cell_type": "code",
   "execution_count": 6,
   "metadata": {},
   "outputs": [],
   "source": [
    "vectorDimension = 100\n",
    "wordModel = Word2Vec(sentences=data['processedText'], size=vectorDimension, window=9, min_count=20, workers=-1, sg=0)"
   ]
  },
  {
   "cell_type": "code",
   "execution_count": 7,
   "metadata": {
    "collapsed": true
   },
   "outputs": [],
   "source": [
    "from collections import defaultdict"
   ]
  },
  {
   "cell_type": "code",
   "execution_count": 8,
   "metadata": {},
   "outputs": [],
   "source": [
    "wordCountDict = defaultdict(int)\n",
    "for sentence in data['processedText']:\n",
    "    for word in np.unique(sentence):\n",
    "        wordCountDict[word] += 1\n",
    "\n",
    "tfidfDict = {}\n",
    "N = len(data['processedText'])\n",
    "for word in wordCountDict.keys():\n",
    "    tfidfDict[word] = np.log(N / wordCountDict[word])"
   ]
  },
  {
   "cell_type": "code",
   "execution_count": 9,
   "metadata": {
    "collapsed": true
   },
   "outputs": [],
   "source": [
    "def tryGetVector(word):\n",
    "    try:\n",
    "        return wordModel.wv.get_vector(word)\n",
    "    except:\n",
    "        return np.zeros(vectorDimension)\n",
    "def vectorizeSentence(sentence):\n",
    "    vectors = np.array([tryGetVector(word) * tfidfDict[word] for word in sentence])\n",
    "    return np.sum(vectors, axis = 0)"
   ]
  },
  {
   "cell_type": "code",
   "execution_count": 10,
   "metadata": {},
   "outputs": [],
   "source": [
    "data['wordVector'] = data['processedText'].map(vectorizeSentence)"
   ]
  },
  {
   "cell_type": "code",
   "execution_count": 11,
   "metadata": {
    "collapsed": true
   },
   "outputs": [],
   "source": [
    "from gensim.test.utils import common_texts"
   ]
  },
  {
   "cell_type": "code",
   "execution_count": 12,
   "metadata": {},
   "outputs": [],
   "source": [
    "from gensim.models.doc2vec import Doc2Vec, TaggedDocument"
   ]
  },
  {
   "cell_type": "code",
   "execution_count": null,
   "metadata": {
    "collapsed": true
   },
   "outputs": [],
   "source": []
  },
  {
   "cell_type": "code",
   "execution_count": null,
   "metadata": {
    "collapsed": true
   },
   "outputs": [],
   "source": []
  },
  {
   "cell_type": "code",
   "execution_count": null,
   "metadata": {
    "collapsed": true
   },
   "outputs": [],
   "source": []
  }
 ],
 "metadata": {
  "kernelspec": {
   "display_name": "Python 3",
   "language": "python",
   "name": "python3"
  },
  "language_info": {
   "codemirror_mode": {
    "name": "ipython",
    "version": 3
   },
   "file_extension": ".py",
   "mimetype": "text/x-python",
   "name": "python",
   "nbconvert_exporter": "python",
   "pygments_lexer": "ipython3",
   "version": "3.5.1"
  }
 },
 "nbformat": 4,
 "nbformat_minor": 2
}
